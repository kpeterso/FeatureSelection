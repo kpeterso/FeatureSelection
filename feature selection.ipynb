{
 "cells": [
  {
   "cell_type": "code",
   "execution_count": 22,
   "metadata": {
    "collapsed": true
   },
   "outputs": [],
   "source": [
    "import pandas as pd\n",
    "from sklearn.feature_selection import RFE\n",
    "from sklearn.linear_model import LinearRegression\n",
    "from sklearn.feature_selection import VarianceThreshold"
   ]
  },
  {
   "cell_type": "code",
   "execution_count": 7,
   "metadata": {
    "collapsed": false
   },
   "outputs": [
    {
     "data": {
      "text/html": [
       "<div>\n",
       "<table border=\"1\" class=\"dataframe\">\n",
       "  <thead>\n",
       "    <tr style=\"text-align: right;\">\n",
       "      <th></th>\n",
       "      <th>Make</th>\n",
       "      <th>Overall Opinion Of Vehicle (G1)</th>\n",
       "      <th>Advanced features</th>\n",
       "      <th>Attractive styling</th>\n",
       "      <th>Prestigious</th>\n",
       "      <th>Quality materials, fit and finish</th>\n",
       "      <th>Quick acceleration</th>\n",
       "      <th>Comfortable for the driver</th>\n",
       "      <th>Customer-oriented dealerships</th>\n",
       "      <th>Responsive handling</th>\n",
       "      <th>Fun to drive</th>\n",
       "      <th>Dependable</th>\n",
       "      <th>Environmentally friendly</th>\n",
       "      <th>Fuel efficient</th>\n",
       "      <th>Lasts a long time</th>\n",
       "      <th>Retains its resale value</th>\n",
       "      <th>Safe</th>\n",
       "      <th>Affordable</th>\n",
       "      <th>Value for the money</th>\n",
       "    </tr>\n",
       "  </thead>\n",
       "  <tbody>\n",
       "    <tr>\n",
       "      <th>0</th>\n",
       "      <td>Buick</td>\n",
       "      <td>0.149526</td>\n",
       "      <td>0.226300</td>\n",
       "      <td>0.237358</td>\n",
       "      <td>0.197913</td>\n",
       "      <td>0.220758</td>\n",
       "      <td>0.169111</td>\n",
       "      <td>0.265958</td>\n",
       "      <td>0.165493</td>\n",
       "      <td>0.181061</td>\n",
       "      <td>0.169716</td>\n",
       "      <td>0.227701</td>\n",
       "      <td>0.143329</td>\n",
       "      <td>0.155519</td>\n",
       "      <td>0.202816</td>\n",
       "      <td>0.146674</td>\n",
       "      <td>0.263305</td>\n",
       "      <td>0.158252</td>\n",
       "      <td>0.180717</td>\n",
       "    </tr>\n",
       "    <tr>\n",
       "      <th>1</th>\n",
       "      <td>Chevrolet</td>\n",
       "      <td>0.304068</td>\n",
       "      <td>0.250052</td>\n",
       "      <td>0.275112</td>\n",
       "      <td>0.174056</td>\n",
       "      <td>0.234142</td>\n",
       "      <td>0.219494</td>\n",
       "      <td>0.308473</td>\n",
       "      <td>0.234187</td>\n",
       "      <td>0.251531</td>\n",
       "      <td>0.278812</td>\n",
       "      <td>0.313961</td>\n",
       "      <td>0.191967</td>\n",
       "      <td>0.236804</td>\n",
       "      <td>0.289994</td>\n",
       "      <td>0.171633</td>\n",
       "      <td>0.286762</td>\n",
       "      <td>0.262936</td>\n",
       "      <td>0.235690</td>\n",
       "    </tr>\n",
       "    <tr>\n",
       "      <th>2</th>\n",
       "      <td>Chrysler</td>\n",
       "      <td>0.111214</td>\n",
       "      <td>0.147492</td>\n",
       "      <td>0.163335</td>\n",
       "      <td>0.146940</td>\n",
       "      <td>0.138282</td>\n",
       "      <td>0.118868</td>\n",
       "      <td>0.185803</td>\n",
       "      <td>0.139403</td>\n",
       "      <td>0.132888</td>\n",
       "      <td>0.141361</td>\n",
       "      <td>0.149968</td>\n",
       "      <td>0.087084</td>\n",
       "      <td>0.097287</td>\n",
       "      <td>0.124518</td>\n",
       "      <td>0.091251</td>\n",
       "      <td>0.148652</td>\n",
       "      <td>0.086974</td>\n",
       "      <td>0.093622</td>\n",
       "    </tr>\n",
       "    <tr>\n",
       "      <th>3</th>\n",
       "      <td>Dodge</td>\n",
       "      <td>0.147122</td>\n",
       "      <td>0.169325</td>\n",
       "      <td>0.171718</td>\n",
       "      <td>0.120374</td>\n",
       "      <td>0.171458</td>\n",
       "      <td>0.160497</td>\n",
       "      <td>0.182617</td>\n",
       "      <td>0.162088</td>\n",
       "      <td>0.167725</td>\n",
       "      <td>0.194889</td>\n",
       "      <td>0.197761</td>\n",
       "      <td>0.118966</td>\n",
       "      <td>0.137525</td>\n",
       "      <td>0.173334</td>\n",
       "      <td>0.127121</td>\n",
       "      <td>0.162469</td>\n",
       "      <td>0.129464</td>\n",
       "      <td>0.131452</td>\n",
       "    </tr>\n",
       "    <tr>\n",
       "      <th>4</th>\n",
       "      <td>FIAT</td>\n",
       "      <td>0.059852</td>\n",
       "      <td>0.110687</td>\n",
       "      <td>0.169764</td>\n",
       "      <td>0.131219</td>\n",
       "      <td>0.126361</td>\n",
       "      <td>0.142625</td>\n",
       "      <td>0.093876</td>\n",
       "      <td>0.120097</td>\n",
       "      <td>0.137798</td>\n",
       "      <td>0.197866</td>\n",
       "      <td>0.113116</td>\n",
       "      <td>0.130568</td>\n",
       "      <td>0.203642</td>\n",
       "      <td>0.113343</td>\n",
       "      <td>0.120456</td>\n",
       "      <td>0.113500</td>\n",
       "      <td>0.135964</td>\n",
       "      <td>0.139624</td>\n",
       "    </tr>\n",
       "  </tbody>\n",
       "</table>\n",
       "</div>"
      ],
      "text/plain": [
       "        Make  Overall Opinion Of Vehicle (G1)  Advanced features  \\\n",
       "0      Buick                         0.149526           0.226300   \n",
       "1  Chevrolet                         0.304068           0.250052   \n",
       "2   Chrysler                         0.111214           0.147492   \n",
       "3      Dodge                         0.147122           0.169325   \n",
       "4       FIAT                         0.059852           0.110687   \n",
       "\n",
       "   Attractive styling  Prestigious  Quality materials, fit and finish  \\\n",
       "0            0.237358     0.197913                           0.220758   \n",
       "1            0.275112     0.174056                           0.234142   \n",
       "2            0.163335     0.146940                           0.138282   \n",
       "3            0.171718     0.120374                           0.171458   \n",
       "4            0.169764     0.131219                           0.126361   \n",
       "\n",
       "   Quick acceleration   Comfortable for the driver  \\\n",
       "0             0.169111                    0.265958   \n",
       "1             0.219494                    0.308473   \n",
       "2             0.118868                    0.185803   \n",
       "3             0.160497                    0.182617   \n",
       "4             0.142625                    0.093876   \n",
       "\n",
       "   Customer-oriented dealerships  Responsive handling  Fun to drive  \\\n",
       "0                       0.165493             0.181061      0.169716   \n",
       "1                       0.234187             0.251531      0.278812   \n",
       "2                       0.139403             0.132888      0.141361   \n",
       "3                       0.162088             0.167725      0.194889   \n",
       "4                       0.120097             0.137798      0.197866   \n",
       "\n",
       "   Dependable  Environmentally friendly  Fuel efficient  Lasts a long time  \\\n",
       "0    0.227701                  0.143329        0.155519           0.202816   \n",
       "1    0.313961                  0.191967        0.236804           0.289994   \n",
       "2    0.149968                  0.087084        0.097287           0.124518   \n",
       "3    0.197761                  0.118966        0.137525           0.173334   \n",
       "4    0.113116                  0.130568        0.203642           0.113343   \n",
       "\n",
       "   Retains its resale value      Safe  Affordable  Value for the money  \n",
       "0                  0.146674  0.263305    0.158252             0.180717  \n",
       "1                  0.171633  0.286762    0.262936             0.235690  \n",
       "2                  0.091251  0.148652    0.086974             0.093622  \n",
       "3                  0.127121  0.162469    0.129464             0.131452  \n",
       "4                  0.120456  0.113500    0.135964             0.139624  "
      ]
     },
     "execution_count": 7,
     "metadata": {},
     "output_type": "execute_result"
    }
   ],
   "source": [
    "df=pd.read_excel(r\"C:\\Users\\Karl\\Desktop\\oao.xlsx\")\n",
    "df.head()"
   ]
  },
  {
   "cell_type": "code",
   "execution_count": 12,
   "metadata": {
    "collapsed": false
   },
   "outputs": [],
   "source": [
    "dfX=df.drop([\"Overall Opinion Of Vehicle (G1)\"], axis=1)\n",
    "dfX=dfX.drop([\"Make\"], axis=1)\n",
    "X=dfX.values\n",
    "y=df[\"Overall Opinion Of Vehicle (G1)\"].values"
   ]
  },
  {
   "cell_type": "code",
   "execution_count": 25,
   "metadata": {
    "collapsed": false
   },
   "outputs": [
    {
     "name": "stdout",
     "output_type": "stream",
     "text": [
      "[ 0.00250166  0.00158844  0.00108345  0.00298687  0.00136024  0.00447466\n",
      "  0.00208125  0.00229751  0.0026368   0.00878625  0.00170527  0.00391345\n",
      "  0.01029229  0.00541671  0.00687952  0.00362908  0.00416256]\n"
     ]
    }
   ],
   "source": [
    "selector = VarianceThreshold()\n",
    "selector.fit(X)\n",
    "print(selector.variances_)"
   ]
  },
  {
   "cell_type": "code",
   "execution_count": 20,
   "metadata": {
    "collapsed": false
   },
   "outputs": [
    {
     "name": "stdout",
     "output_type": "stream",
     "text": [
      "[False False False False False False False False False False False False\n",
      "  True False False False False]\n",
      "[ 2  9 15  6 10 17  4 12 16  3 13  7  1 11  5 14  8]\n"
     ]
    }
   ],
   "source": [
    "# create a base classifier used to evaluate a subset of attributes\n",
    "model = LinearRegression()\n",
    "# create the RFE model and select 3 attributes\n",
    "rfe = RFE(model, 1)\n",
    "rfe = rfe.fit(X, y)\n",
    "# summarize the selection of the attributes\n",
    "print(rfe.support_)\n",
    "print(rfe.ranking_)"
   ]
  },
  {
   "cell_type": "code",
   "execution_count": null,
   "metadata": {
    "collapsed": true
   },
   "outputs": [],
   "source": [
    "#get several years' worth of data"
   ]
  }
 ],
 "metadata": {
  "kernelspec": {
   "display_name": "Python 3",
   "language": "python",
   "name": "python3"
  },
  "language_info": {
   "codemirror_mode": {
    "name": "ipython",
    "version": 3
   },
   "file_extension": ".py",
   "mimetype": "text/x-python",
   "name": "python",
   "nbconvert_exporter": "python",
   "pygments_lexer": "ipython3",
   "version": "3.6.0"
  }
 },
 "nbformat": 4,
 "nbformat_minor": 2
}
